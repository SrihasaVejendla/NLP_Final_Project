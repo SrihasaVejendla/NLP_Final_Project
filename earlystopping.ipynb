{
  "nbformat": 4,
  "nbformat_minor": 0,
  "metadata": {
    "colab": {
      "name": "earlystopping.ipynb",
      "provenance": [],
      "authorship_tag": "ABX9TyNGGwUFFOwGenmxw5P2aDKf",
      "include_colab_link": true
    },
    "kernelspec": {
      "name": "python3",
      "display_name": "Python 3"
    }
  },
  "cells": [
    {
      "cell_type": "markdown",
      "metadata": {
        "id": "view-in-github",
        "colab_type": "text"
      },
      "source": [
        "<a href=\"https://colab.research.google.com/github/phanikarra15/NLP_Final_Project/blob/main/earlystopping.ipynb\" target=\"_parent\"><img src=\"https://colab.research.google.com/assets/colab-badge.svg\" alt=\"Open In Colab\"/></a>"
      ]
    },
    {
      "cell_type": "code",
      "metadata": {
        "id": "nQltZPtZbXEQ"
      },
      "source": [
        "import torch\n",
        "import numpy as np"
      ],
      "execution_count": 1,
      "outputs": []
    },
    {
      "cell_type": "code",
      "metadata": {
        "id": "TuSeWKkQblI_"
      },
      "source": [
        "class EarlyStopping:\n",
        "    \n",
        "    def __init__(self,path,patience,verbose,delta=0):\n",
        "        self.patience = patience\n",
        "        self.verbose = verbose\n",
        "        self.delta = delta\n",
        "        self.path = path\n",
        "        self.best_score = None\n",
        "        self.early_stop = False\n",
        "        self.min_loss = np.Infinity\n",
        "        self.counter = 0\n",
        "    \n",
        "    def __call__(self,validation_loss,model):\n",
        "        validation_score = -validation_loss\n",
        "        \n",
        "        if self.best_score is None:\n",
        "            self.best_score = validation_score\n",
        "            self.save_checkpoint(validation_loss,model)\n",
        "        \n",
        "        elif validation_score < self.best_score + self.delta:\n",
        "            self.counter +=  1\n",
        "            print(f'Early Stopping = {self.counter} of {self.patience}')\n",
        "            if self.counter >= self.patience:\n",
        "                self.early_stop = True\n",
        "        \n",
        "        else:\n",
        "            self.best_score = validation_score\n",
        "            self.save_checkpoint(validation_loss,model)\n",
        "            self.counter = 0\n",
        "            \n",
        "    \n",
        "    def save_checkpoint(self,validation_loss,model):\n",
        "        if self.verbose is True:\n",
        "            print(f'Validation loss is ({self.min_loss:.5f} --> {validation_loss:.5f}).  Saving model ...')\n",
        "        torch.save(model, self.path)\n",
        "        self.min_loss = validation_loss"
      ],
      "execution_count": null,
      "outputs": []
    }
  ]
}