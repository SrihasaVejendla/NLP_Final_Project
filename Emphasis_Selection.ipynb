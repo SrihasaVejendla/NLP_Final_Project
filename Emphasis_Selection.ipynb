{
  "nbformat": 4,
  "nbformat_minor": 0,
  "metadata": {
    "colab": {
      "name": "EmphasisSelection.ipynb",
      "provenance": [],
      "collapsed_sections": []
    },
    "kernelspec": {
      "display_name": "Python 3",
      "language": "python",
      "name": "python3"
    },
    "language_info": {
      "codemirror_mode": {
        "name": "ipython",
        "version": 3
      },
      "file_extension": ".py",
      "mimetype": "text/x-python",
      "name": "python",
      "nbconvert_exporter": "python",
      "pygments_lexer": "ipython3",
      "version": "3.8.3"
    },
    "accelerator": "GPU",
    "widgets": {
      "application/vnd.jupyter.widget-state+json": {
        "1dcdf90ee34943408dc42ca4cfb3cf69": {
          "model_module": "@jupyter-widgets/controls",
          "model_name": "HBoxModel",
          "state": {
            "_view_name": "HBoxView",
            "_dom_classes": [],
            "_model_name": "HBoxModel",
            "_view_module": "@jupyter-widgets/controls",
            "_model_module_version": "1.5.0",
            "_view_count": null,
            "_view_module_version": "1.5.0",
            "box_style": "",
            "layout": "IPY_MODEL_7777bf3a0e504a38a4cfd088edf15204",
            "_model_module": "@jupyter-widgets/controls",
            "children": [
              "IPY_MODEL_dfc92d7b2a4a489b8b27b295205e18e9",
              "IPY_MODEL_841a7795d38a451ea77baacea6fa9e44"
            ]
          }
        },
        "7777bf3a0e504a38a4cfd088edf15204": {
          "model_module": "@jupyter-widgets/base",
          "model_name": "LayoutModel",
          "state": {
            "_view_name": "LayoutView",
            "grid_template_rows": null,
            "right": null,
            "justify_content": null,
            "_view_module": "@jupyter-widgets/base",
            "overflow": null,
            "_model_module_version": "1.2.0",
            "_view_count": null,
            "flex_flow": null,
            "width": null,
            "min_width": null,
            "border": null,
            "align_items": null,
            "bottom": null,
            "_model_module": "@jupyter-widgets/base",
            "top": null,
            "grid_column": null,
            "overflow_y": null,
            "overflow_x": null,
            "grid_auto_flow": null,
            "grid_area": null,
            "grid_template_columns": null,
            "flex": null,
            "_model_name": "LayoutModel",
            "justify_items": null,
            "grid_row": null,
            "max_height": null,
            "align_content": null,
            "visibility": null,
            "align_self": null,
            "height": null,
            "min_height": null,
            "padding": null,
            "grid_auto_rows": null,
            "grid_gap": null,
            "max_width": null,
            "order": null,
            "_view_module_version": "1.2.0",
            "grid_template_areas": null,
            "object_position": null,
            "object_fit": null,
            "grid_auto_columns": null,
            "margin": null,
            "display": null,
            "left": null
          }
        },
        "dfc92d7b2a4a489b8b27b295205e18e9": {
          "model_module": "@jupyter-widgets/controls",
          "model_name": "FloatProgressModel",
          "state": {
            "_view_name": "ProgressView",
            "style": "IPY_MODEL_0f31e33f330446a19736a234534d4cd8",
            "_dom_classes": [],
            "description": "Downloading: 100%",
            "_model_name": "FloatProgressModel",
            "bar_style": "success",
            "max": 231508,
            "_view_module": "@jupyter-widgets/controls",
            "_model_module_version": "1.5.0",
            "value": 231508,
            "_view_count": null,
            "_view_module_version": "1.5.0",
            "orientation": "horizontal",
            "min": 0,
            "description_tooltip": null,
            "_model_module": "@jupyter-widgets/controls",
            "layout": "IPY_MODEL_57cb02d6db1744e2832147e187fd48c2"
          }
        },
        "841a7795d38a451ea77baacea6fa9e44": {
          "model_module": "@jupyter-widgets/controls",
          "model_name": "HTMLModel",
          "state": {
            "_view_name": "HTMLView",
            "style": "IPY_MODEL_026236f9579245178f0232ac955dafa8",
            "_dom_classes": [],
            "description": "",
            "_model_name": "HTMLModel",
            "placeholder": "​",
            "_view_module": "@jupyter-widgets/controls",
            "_model_module_version": "1.5.0",
            "value": " 232k/232k [00:00&lt;00:00, 3.12MB/s]",
            "_view_count": null,
            "_view_module_version": "1.5.0",
            "description_tooltip": null,
            "_model_module": "@jupyter-widgets/controls",
            "layout": "IPY_MODEL_828ce727055b4cd19ab62b287576aca3"
          }
        },
        "0f31e33f330446a19736a234534d4cd8": {
          "model_module": "@jupyter-widgets/controls",
          "model_name": "ProgressStyleModel",
          "state": {
            "_view_name": "StyleView",
            "_model_name": "ProgressStyleModel",
            "description_width": "initial",
            "_view_module": "@jupyter-widgets/base",
            "_model_module_version": "1.5.0",
            "_view_count": null,
            "_view_module_version": "1.2.0",
            "bar_color": null,
            "_model_module": "@jupyter-widgets/controls"
          }
        },
        "57cb02d6db1744e2832147e187fd48c2": {
          "model_module": "@jupyter-widgets/base",
          "model_name": "LayoutModel",
          "state": {
            "_view_name": "LayoutView",
            "grid_template_rows": null,
            "right": null,
            "justify_content": null,
            "_view_module": "@jupyter-widgets/base",
            "overflow": null,
            "_model_module_version": "1.2.0",
            "_view_count": null,
            "flex_flow": null,
            "width": null,
            "min_width": null,
            "border": null,
            "align_items": null,
            "bottom": null,
            "_model_module": "@jupyter-widgets/base",
            "top": null,
            "grid_column": null,
            "overflow_y": null,
            "overflow_x": null,
            "grid_auto_flow": null,
            "grid_area": null,
            "grid_template_columns": null,
            "flex": null,
            "_model_name": "LayoutModel",
            "justify_items": null,
            "grid_row": null,
            "max_height": null,
            "align_content": null,
            "visibility": null,
            "align_self": null,
            "height": null,
            "min_height": null,
            "padding": null,
            "grid_auto_rows": null,
            "grid_gap": null,
            "max_width": null,
            "order": null,
            "_view_module_version": "1.2.0",
            "grid_template_areas": null,
            "object_position": null,
            "object_fit": null,
            "grid_auto_columns": null,
            "margin": null,
            "display": null,
            "left": null
          }
        },
        "026236f9579245178f0232ac955dafa8": {
          "model_module": "@jupyter-widgets/controls",
          "model_name": "DescriptionStyleModel",
          "state": {
            "_view_name": "StyleView",
            "_model_name": "DescriptionStyleModel",
            "description_width": "",
            "_view_module": "@jupyter-widgets/base",
            "_model_module_version": "1.5.0",
            "_view_count": null,
            "_view_module_version": "1.2.0",
            "_model_module": "@jupyter-widgets/controls"
          }
        },
        "828ce727055b4cd19ab62b287576aca3": {
          "model_module": "@jupyter-widgets/base",
          "model_name": "LayoutModel",
          "state": {
            "_view_name": "LayoutView",
            "grid_template_rows": null,
            "right": null,
            "justify_content": null,
            "_view_module": "@jupyter-widgets/base",
            "overflow": null,
            "_model_module_version": "1.2.0",
            "_view_count": null,
            "flex_flow": null,
            "width": null,
            "min_width": null,
            "border": null,
            "align_items": null,
            "bottom": null,
            "_model_module": "@jupyter-widgets/base",
            "top": null,
            "grid_column": null,
            "overflow_y": null,
            "overflow_x": null,
            "grid_auto_flow": null,
            "grid_area": null,
            "grid_template_columns": null,
            "flex": null,
            "_model_name": "LayoutModel",
            "justify_items": null,
            "grid_row": null,
            "max_height": null,
            "align_content": null,
            "visibility": null,
            "align_self": null,
            "height": null,
            "min_height": null,
            "padding": null,
            "grid_auto_rows": null,
            "grid_gap": null,
            "max_width": null,
            "order": null,
            "_view_module_version": "1.2.0",
            "grid_template_areas": null,
            "object_position": null,
            "object_fit": null,
            "grid_auto_columns": null,
            "margin": null,
            "display": null,
            "left": null
          }
        }
      }
    }
  },
  "cells": [
    {
      "cell_type": "code",
      "metadata": {
        "id": "4Q-3MHNGoKuz",
        "outputId": "e146ac58-f0f1-47ac-9c5a-8ccc56db0b5a",
        "colab": {
          "base_uri": "https://localhost:8080/"
        }
      },
      "source": [
        "!nvidia-smi"
      ],
      "execution_count": 1,
      "outputs": [
        {
          "output_type": "stream",
          "text": [
            "Mon Nov  2 15:33:32 2020       \n",
            "+-----------------------------------------------------------------------------+\n",
            "| NVIDIA-SMI 455.32.00    Driver Version: 418.67       CUDA Version: 10.1     |\n",
            "|-------------------------------+----------------------+----------------------+\n",
            "| GPU  Name        Persistence-M| Bus-Id        Disp.A | Volatile Uncorr. ECC |\n",
            "| Fan  Temp  Perf  Pwr:Usage/Cap|         Memory-Usage | GPU-Util  Compute M. |\n",
            "|                               |                      |               MIG M. |\n",
            "|===============================+======================+======================|\n",
            "|   0  Tesla T4            Off  | 00000000:00:04.0 Off |                    0 |\n",
            "| N/A   44C    P8    10W /  70W |      0MiB / 15079MiB |      0%      Default |\n",
            "|                               |                      |                 ERR! |\n",
            "+-------------------------------+----------------------+----------------------+\n",
            "                                                                               \n",
            "+-----------------------------------------------------------------------------+\n",
            "| Processes:                                                                  |\n",
            "|  GPU   GI   CI        PID   Type   Process name                  GPU Memory |\n",
            "|        ID   ID                                                   Usage      |\n",
            "|=============================================================================|\n",
            "|  No running processes found                                                 |\n",
            "+-----------------------------------------------------------------------------+\n"
          ],
          "name": "stdout"
        }
      ]
    },
    {
      "cell_type": "code",
      "metadata": {
        "id": "s6KNiijNYN-K",
        "outputId": "071f1575-5737-4f3c-e502-95a3b1028498",
        "colab": {
          "base_uri": "https://localhost:8080/"
        }
      },
      "source": [
        "pip install transformers"
      ],
      "execution_count": 2,
      "outputs": [
        {
          "output_type": "stream",
          "text": [
            "Collecting transformers\n",
            "\u001b[?25l  Downloading https://files.pythonhosted.org/packages/2c/4e/4f1ede0fd7a36278844a277f8d53c21f88f37f3754abf76a5d6224f76d4a/transformers-3.4.0-py3-none-any.whl (1.3MB)\n",
            "\r\u001b[K     |▎                               | 10kB 28.9MB/s eta 0:00:01\r\u001b[K     |▌                               | 20kB 34.6MB/s eta 0:00:01\r\u001b[K     |▉                               | 30kB 37.8MB/s eta 0:00:01\r\u001b[K     |█                               | 40kB 24.9MB/s eta 0:00:01\r\u001b[K     |█▎                              | 51kB 14.6MB/s eta 0:00:01\r\u001b[K     |█▋                              | 61kB 13.0MB/s eta 0:00:01\r\u001b[K     |█▉                              | 71kB 12.8MB/s eta 0:00:01\r\u001b[K     |██                              | 81kB 13.5MB/s eta 0:00:01\r\u001b[K     |██▍                             | 92kB 12.0MB/s eta 0:00:01\r\u001b[K     |██▋                             | 102kB 12.3MB/s eta 0:00:01\r\u001b[K     |██▉                             | 112kB 12.3MB/s eta 0:00:01\r\u001b[K     |███▏                            | 122kB 12.3MB/s eta 0:00:01\r\u001b[K     |███▍                            | 133kB 12.3MB/s eta 0:00:01\r\u001b[K     |███▋                            | 143kB 12.3MB/s eta 0:00:01\r\u001b[K     |████                            | 153kB 12.3MB/s eta 0:00:01\r\u001b[K     |████▏                           | 163kB 12.3MB/s eta 0:00:01\r\u001b[K     |████▍                           | 174kB 12.3MB/s eta 0:00:01\r\u001b[K     |████▊                           | 184kB 12.3MB/s eta 0:00:01\r\u001b[K     |█████                           | 194kB 12.3MB/s eta 0:00:01\r\u001b[K     |█████▏                          | 204kB 12.3MB/s eta 0:00:01\r\u001b[K     |█████▌                          | 215kB 12.3MB/s eta 0:00:01\r\u001b[K     |█████▊                          | 225kB 12.3MB/s eta 0:00:01\r\u001b[K     |██████                          | 235kB 12.3MB/s eta 0:00:01\r\u001b[K     |██████▎                         | 245kB 12.3MB/s eta 0:00:01\r\u001b[K     |██████▌                         | 256kB 12.3MB/s eta 0:00:01\r\u001b[K     |██████▊                         | 266kB 12.3MB/s eta 0:00:01\r\u001b[K     |███████                         | 276kB 12.3MB/s eta 0:00:01\r\u001b[K     |███████▎                        | 286kB 12.3MB/s eta 0:00:01\r\u001b[K     |███████▋                        | 296kB 12.3MB/s eta 0:00:01\r\u001b[K     |███████▉                        | 307kB 12.3MB/s eta 0:00:01\r\u001b[K     |████████                        | 317kB 12.3MB/s eta 0:00:01\r\u001b[K     |████████▍                       | 327kB 12.3MB/s eta 0:00:01\r\u001b[K     |████████▋                       | 337kB 12.3MB/s eta 0:00:01\r\u001b[K     |████████▉                       | 348kB 12.3MB/s eta 0:00:01\r\u001b[K     |█████████▏                      | 358kB 12.3MB/s eta 0:00:01\r\u001b[K     |█████████▍                      | 368kB 12.3MB/s eta 0:00:01\r\u001b[K     |█████████▋                      | 378kB 12.3MB/s eta 0:00:01\r\u001b[K     |██████████                      | 389kB 12.3MB/s eta 0:00:01\r\u001b[K     |██████████▏                     | 399kB 12.3MB/s eta 0:00:01\r\u001b[K     |██████████▍                     | 409kB 12.3MB/s eta 0:00:01\r\u001b[K     |██████████▊                     | 419kB 12.3MB/s eta 0:00:01\r\u001b[K     |███████████                     | 430kB 12.3MB/s eta 0:00:01\r\u001b[K     |███████████▏                    | 440kB 12.3MB/s eta 0:00:01\r\u001b[K     |███████████▌                    | 450kB 12.3MB/s eta 0:00:01\r\u001b[K     |███████████▊                    | 460kB 12.3MB/s eta 0:00:01\r\u001b[K     |████████████                    | 471kB 12.3MB/s eta 0:00:01\r\u001b[K     |████████████▎                   | 481kB 12.3MB/s eta 0:00:01\r\u001b[K     |████████████▌                   | 491kB 12.3MB/s eta 0:00:01\r\u001b[K     |████████████▊                   | 501kB 12.3MB/s eta 0:00:01\r\u001b[K     |█████████████                   | 512kB 12.3MB/s eta 0:00:01\r\u001b[K     |█████████████▎                  | 522kB 12.3MB/s eta 0:00:01\r\u001b[K     |█████████████▌                  | 532kB 12.3MB/s eta 0:00:01\r\u001b[K     |█████████████▉                  | 542kB 12.3MB/s eta 0:00:01\r\u001b[K     |██████████████                  | 552kB 12.3MB/s eta 0:00:01\r\u001b[K     |██████████████▍                 | 563kB 12.3MB/s eta 0:00:01\r\u001b[K     |██████████████▋                 | 573kB 12.3MB/s eta 0:00:01\r\u001b[K     |██████████████▉                 | 583kB 12.3MB/s eta 0:00:01\r\u001b[K     |███████████████▏                | 593kB 12.3MB/s eta 0:00:01\r\u001b[K     |███████████████▍                | 604kB 12.3MB/s eta 0:00:01\r\u001b[K     |███████████████▋                | 614kB 12.3MB/s eta 0:00:01\r\u001b[K     |████████████████                | 624kB 12.3MB/s eta 0:00:01\r\u001b[K     |████████████████▏               | 634kB 12.3MB/s eta 0:00:01\r\u001b[K     |████████████████▍               | 645kB 12.3MB/s eta 0:00:01\r\u001b[K     |████████████████▊               | 655kB 12.3MB/s eta 0:00:01\r\u001b[K     |█████████████████               | 665kB 12.3MB/s eta 0:00:01\r\u001b[K     |█████████████████▏              | 675kB 12.3MB/s eta 0:00:01\r\u001b[K     |█████████████████▌              | 686kB 12.3MB/s eta 0:00:01\r\u001b[K     |█████████████████▊              | 696kB 12.3MB/s eta 0:00:01\r\u001b[K     |██████████████████              | 706kB 12.3MB/s eta 0:00:01\r\u001b[K     |██████████████████▎             | 716kB 12.3MB/s eta 0:00:01\r\u001b[K     |██████████████████▌             | 727kB 12.3MB/s eta 0:00:01\r\u001b[K     |██████████████████▊             | 737kB 12.3MB/s eta 0:00:01\r\u001b[K     |███████████████████             | 747kB 12.3MB/s eta 0:00:01\r\u001b[K     |███████████████████▎            | 757kB 12.3MB/s eta 0:00:01\r\u001b[K     |███████████████████▌            | 768kB 12.3MB/s eta 0:00:01\r\u001b[K     |███████████████████▉            | 778kB 12.3MB/s eta 0:00:01\r\u001b[K     |████████████████████            | 788kB 12.3MB/s eta 0:00:01\r\u001b[K     |████████████████████▎           | 798kB 12.3MB/s eta 0:00:01\r\u001b[K     |████████████████████▋           | 808kB 12.3MB/s eta 0:00:01\r\u001b[K     |████████████████████▉           | 819kB 12.3MB/s eta 0:00:01\r\u001b[K     |█████████████████████           | 829kB 12.3MB/s eta 0:00:01\r\u001b[K     |█████████████████████▍          | 839kB 12.3MB/s eta 0:00:01\r\u001b[K     |█████████████████████▋          | 849kB 12.3MB/s eta 0:00:01\r\u001b[K     |██████████████████████          | 860kB 12.3MB/s eta 0:00:01\r\u001b[K     |██████████████████████▏         | 870kB 12.3MB/s eta 0:00:01\r\u001b[K     |██████████████████████▍         | 880kB 12.3MB/s eta 0:00:01\r\u001b[K     |██████████████████████▊         | 890kB 12.3MB/s eta 0:00:01\r\u001b[K     |███████████████████████         | 901kB 12.3MB/s eta 0:00:01\r\u001b[K     |███████████████████████▏        | 911kB 12.3MB/s eta 0:00:01\r\u001b[K     |███████████████████████▌        | 921kB 12.3MB/s eta 0:00:01\r\u001b[K     |███████████████████████▊        | 931kB 12.3MB/s eta 0:00:01\r\u001b[K     |████████████████████████        | 942kB 12.3MB/s eta 0:00:01\r\u001b[K     |████████████████████████▎       | 952kB 12.3MB/s eta 0:00:01\r\u001b[K     |████████████████████████▌       | 962kB 12.3MB/s eta 0:00:01\r\u001b[K     |████████████████████████▊       | 972kB 12.3MB/s eta 0:00:01\r\u001b[K     |█████████████████████████       | 983kB 12.3MB/s eta 0:00:01\r\u001b[K     |█████████████████████████▎      | 993kB 12.3MB/s eta 0:00:01\r\u001b[K     |█████████████████████████▌      | 1.0MB 12.3MB/s eta 0:00:01\r\u001b[K     |█████████████████████████▉      | 1.0MB 12.3MB/s eta 0:00:01\r\u001b[K     |██████████████████████████      | 1.0MB 12.3MB/s eta 0:00:01\r\u001b[K     |██████████████████████████▎     | 1.0MB 12.3MB/s eta 0:00:01\r\u001b[K     |██████████████████████████▋     | 1.0MB 12.3MB/s eta 0:00:01\r\u001b[K     |██████████████████████████▉     | 1.1MB 12.3MB/s eta 0:00:01\r\u001b[K     |███████████████████████████     | 1.1MB 12.3MB/s eta 0:00:01\r\u001b[K     |███████████████████████████▍    | 1.1MB 12.3MB/s eta 0:00:01\r\u001b[K     |███████████████████████████▋    | 1.1MB 12.3MB/s eta 0:00:01\r\u001b[K     |███████████████████████████▉    | 1.1MB 12.3MB/s eta 0:00:01\r\u001b[K     |████████████████████████████▏   | 1.1MB 12.3MB/s eta 0:00:01\r\u001b[K     |████████████████████████████▍   | 1.1MB 12.3MB/s eta 0:00:01\r\u001b[K     |████████████████████████████▊   | 1.1MB 12.3MB/s eta 0:00:01\r\u001b[K     |█████████████████████████████   | 1.1MB 12.3MB/s eta 0:00:01\r\u001b[K     |█████████████████████████████▏  | 1.1MB 12.3MB/s eta 0:00:01\r\u001b[K     |█████████████████████████████▌  | 1.2MB 12.3MB/s eta 0:00:01\r\u001b[K     |█████████████████████████████▊  | 1.2MB 12.3MB/s eta 0:00:01\r\u001b[K     |██████████████████████████████  | 1.2MB 12.3MB/s eta 0:00:01\r\u001b[K     |██████████████████████████████▎ | 1.2MB 12.3MB/s eta 0:00:01\r\u001b[K     |██████████████████████████████▌ | 1.2MB 12.3MB/s eta 0:00:01\r\u001b[K     |██████████████████████████████▊ | 1.2MB 12.3MB/s eta 0:00:01\r\u001b[K     |███████████████████████████████ | 1.2MB 12.3MB/s eta 0:00:01\r\u001b[K     |███████████████████████████████▎| 1.2MB 12.3MB/s eta 0:00:01\r\u001b[K     |███████████████████████████████▌| 1.2MB 12.3MB/s eta 0:00:01\r\u001b[K     |███████████████████████████████▉| 1.2MB 12.3MB/s eta 0:00:01\r\u001b[K     |████████████████████████████████| 1.3MB 12.3MB/s \n",
            "\u001b[?25hRequirement already satisfied: dataclasses; python_version < \"3.7\" in /usr/local/lib/python3.6/dist-packages (from transformers) (0.7)\n",
            "Collecting sentencepiece!=0.1.92\n",
            "\u001b[?25l  Downloading https://files.pythonhosted.org/packages/e5/2d/6d4ca4bef9a67070fa1cac508606328329152b1df10bdf31fb6e4e727894/sentencepiece-0.1.94-cp36-cp36m-manylinux2014_x86_64.whl (1.1MB)\n",
            "\u001b[K     |████████████████████████████████| 1.1MB 57.7MB/s \n",
            "\u001b[?25hRequirement already satisfied: filelock in /usr/local/lib/python3.6/dist-packages (from transformers) (3.0.12)\n",
            "Requirement already satisfied: tqdm>=4.27 in /usr/local/lib/python3.6/dist-packages (from transformers) (4.41.1)\n",
            "Requirement already satisfied: packaging in /usr/local/lib/python3.6/dist-packages (from transformers) (20.4)\n",
            "Requirement already satisfied: regex!=2019.12.17 in /usr/local/lib/python3.6/dist-packages (from transformers) (2019.12.20)\n",
            "Collecting sacremoses\n",
            "\u001b[?25l  Downloading https://files.pythonhosted.org/packages/7d/34/09d19aff26edcc8eb2a01bed8e98f13a1537005d31e95233fd48216eed10/sacremoses-0.0.43.tar.gz (883kB)\n",
            "\u001b[K     |████████████████████████████████| 890kB 56.4MB/s \n",
            "\u001b[?25hRequirement already satisfied: requests in /usr/local/lib/python3.6/dist-packages (from transformers) (2.23.0)\n",
            "Requirement already satisfied: numpy in /usr/local/lib/python3.6/dist-packages (from transformers) (1.18.5)\n",
            "Requirement already satisfied: protobuf in /usr/local/lib/python3.6/dist-packages (from transformers) (3.12.4)\n",
            "Collecting tokenizers==0.9.2\n",
            "\u001b[?25l  Downloading https://files.pythonhosted.org/packages/7c/a5/78be1a55b2ac8d6a956f0a211d372726e2b1dd2666bb537fea9b03abd62c/tokenizers-0.9.2-cp36-cp36m-manylinux1_x86_64.whl (2.9MB)\n",
            "\u001b[K     |████████████████████████████████| 2.9MB 49.1MB/s \n",
            "\u001b[?25hRequirement already satisfied: six in /usr/local/lib/python3.6/dist-packages (from packaging->transformers) (1.15.0)\n",
            "Requirement already satisfied: pyparsing>=2.0.2 in /usr/local/lib/python3.6/dist-packages (from packaging->transformers) (2.4.7)\n",
            "Requirement already satisfied: click in /usr/local/lib/python3.6/dist-packages (from sacremoses->transformers) (7.1.2)\n",
            "Requirement already satisfied: joblib in /usr/local/lib/python3.6/dist-packages (from sacremoses->transformers) (0.17.0)\n",
            "Requirement already satisfied: urllib3!=1.25.0,!=1.25.1,<1.26,>=1.21.1 in /usr/local/lib/python3.6/dist-packages (from requests->transformers) (1.24.3)\n",
            "Requirement already satisfied: idna<3,>=2.5 in /usr/local/lib/python3.6/dist-packages (from requests->transformers) (2.10)\n",
            "Requirement already satisfied: certifi>=2017.4.17 in /usr/local/lib/python3.6/dist-packages (from requests->transformers) (2020.6.20)\n",
            "Requirement already satisfied: chardet<4,>=3.0.2 in /usr/local/lib/python3.6/dist-packages (from requests->transformers) (3.0.4)\n",
            "Requirement already satisfied: setuptools in /usr/local/lib/python3.6/dist-packages (from protobuf->transformers) (50.3.2)\n",
            "Building wheels for collected packages: sacremoses\n",
            "  Building wheel for sacremoses (setup.py) ... \u001b[?25l\u001b[?25hdone\n",
            "  Created wheel for sacremoses: filename=sacremoses-0.0.43-cp36-none-any.whl size=893257 sha256=e2c2d507cc4964f4d5925c1041c2202fc578263281b37e383817bbfed2399238\n",
            "  Stored in directory: /root/.cache/pip/wheels/29/3c/fd/7ce5c3f0666dab31a50123635e6fb5e19ceb42ce38d4e58f45\n",
            "Successfully built sacremoses\n",
            "Installing collected packages: sentencepiece, sacremoses, tokenizers, transformers\n",
            "Successfully installed sacremoses-0.0.43 sentencepiece-0.1.94 tokenizers-0.9.2 transformers-3.4.0\n"
          ],
          "name": "stdout"
        }
      ]
    },
    {
      "cell_type": "code",
      "metadata": {
        "id": "ABslhMYDTn2v"
      },
      "source": [
        "import torch\n",
        "from transformers import BertTokenizer, BertModel"
      ],
      "execution_count": 3,
      "outputs": []
    },
    {
      "cell_type": "code",
      "metadata": {
        "id": "rpetzFRcWBmg"
      },
      "source": [
        "def dataset(filename):\n",
        "    with open(filename,'r') as fp:\n",
        "        lines = [line.strip() for line in fp]\n",
        "    return lines"
      ],
      "execution_count": 4,
      "outputs": []
    },
    {
      "cell_type": "code",
      "metadata": {
        "id": "qwPuzPYsWBp3"
      },
      "source": [
        "def wordData(data):\n",
        "    wordLines = data\n",
        "    words = []\n",
        "    probabilities = []\n",
        "    wordList = []\n",
        "    pos = []\n",
        "    empty = []\n",
        "    for line in wordLines:\n",
        "        lineSplit = line.strip().split('\\t')\n",
        "        if line:\n",
        "            word = lineSplit[1]\n",
        "            prob = lineSplit[4]\n",
        "            temp = lineSplit[5]\n",
        "            words.append(word)\n",
        "            probabilities.append(prob)\n",
        "            pos.append(temp)\n",
        "        elif not (len(empty) and []):\n",
        "            wordList.append((words, pos, probabilities))\n",
        "            words = []\n",
        "            probabilities = []\n",
        "            pos = []\n",
        "    return wordList"
      ],
      "execution_count": 5,
      "outputs": []
    },
    {
      "cell_type": "code",
      "metadata": {
        "id": "1ugzYtznWB1X"
      },
      "source": [
        "def wordtest(data):\n",
        "    wordLines = data\n",
        "    words = []\n",
        "    testWord = []\n",
        "    empty = []\n",
        "    for line in wordLines:\n",
        "        lineSplit = line.strip().split('\\t')\n",
        "        if line:\n",
        "            word = lineSplit[1]            \n",
        "            words.append(word)\n",
        "        elif not len(empty):\n",
        "            testWord.append(words)\n",
        "            words = []       \n",
        "    return testWord"
      ],
      "execution_count": 6,
      "outputs": []
    },
    {
      "cell_type": "code",
      "metadata": {
        "id": "hpkAMX2uWB3y"
      },
      "source": [
        "def preTokenizing(data):\n",
        "    t = []\n",
        "    po = []\n",
        "    prob = []\n",
        "    for i,j,k in data:\n",
        "        text = []\n",
        "        pos = []\n",
        "        probs = []\n",
        "        for l in i:\n",
        "            text.append(l)\n",
        "        for m in j:\n",
        "            pos.append(m)\n",
        "        for n in k:\n",
        "            probs.append(n)\n",
        "        t.append(text)\n",
        "        po.append(pos)\n",
        "        prob.append(probs)\n",
        "    return t,po, prob"
      ],
      "execution_count": 7,
      "outputs": []
    },
    {
      "cell_type": "code",
      "metadata": {
        "id": "6n7FCyJQWB7K"
      },
      "source": [
        "TRAINING_FILE = \"train.txt\"\n",
        "DEV_FILE = \"dev.txt\"\n",
        "TEST_FILE = \"test_data.txt\""
      ],
      "execution_count": 8,
      "outputs": []
    },
    {
      "cell_type": "code",
      "metadata": {
        "id": "uBpfUuPwYHgf",
        "outputId": "45ee98da-c9bd-48ab-e21c-8431083d8084",
        "colab": {
          "base_uri": "https://localhost:8080/",
          "height": 66,
          "referenced_widgets": [
            "1dcdf90ee34943408dc42ca4cfb3cf69",
            "7777bf3a0e504a38a4cfd088edf15204",
            "dfc92d7b2a4a489b8b27b295205e18e9",
            "841a7795d38a451ea77baacea6fa9e44",
            "0f31e33f330446a19736a234534d4cd8",
            "57cb02d6db1744e2832147e187fd48c2",
            "026236f9579245178f0232ac955dafa8",
            "828ce727055b4cd19ab62b287576aca3"
          ]
        }
      },
      "source": [
        "trainText = wordData(dataset(TRAINING_FILE))\n",
        "testEval = wordtest(dataset(TEST_FILE))\n",
        "devText = wordData(dataset(DEV_FILE))\n",
        "\n",
        "\n",
        "trainWords,trainTags, trainLabels = preTokenizing(trainText)\n",
        "devWords, devTags, devLabels = preTokenizing(devText)\n",
        "\n",
        "tokenizer = BertTokenizer.from_pretrained('bert-base-uncased')\n",
        "tokenized_text = []\n",
        "for i in trainWords:\n",
        "    sent = \"\"\n",
        "    for j in i:\n",
        "        if sent == \"\":\n",
        "            sent += j\n",
        "        else:\n",
        "            sent = sent + \" \" + j\n",
        "    tokens = tokenizer.tokenize(sent)\n",
        "    token_ids = tokenizer.encode_plus(tokens, add_special_tokens=False, return_attention_mask=False, return_tensors='pt')\n",
        "    tokenized_text.append(token_ids)\n"
      ],
      "execution_count": 9,
      "outputs": [
        {
          "output_type": "display_data",
          "data": {
            "application/vnd.jupyter.widget-view+json": {
              "model_id": "1dcdf90ee34943408dc42ca4cfb3cf69",
              "version_minor": 0,
              "version_major": 2
            },
            "text/plain": [
              "HBox(children=(FloatProgress(value=0.0, description='Downloading', max=231508.0, style=ProgressStyle(descripti…"
            ]
          },
          "metadata": {
            "tags": []
          }
        },
        {
          "output_type": "stream",
          "text": [
            "\n"
          ],
          "name": "stdout"
        }
      ]
    },
    {
      "cell_type": "code",
      "metadata": {
        "id": "pXeajYFvX-cj",
        "outputId": "47e46923-14f4-4911-c26a-f7458aafc76e",
        "colab": {
          "base_uri": "https://localhost:8080/"
        }
      },
      "source": [
        "print(tokenized_text[0])"
      ],
      "execution_count": 10,
      "outputs": [
        {
          "output_type": "stream",
          "text": [
            "{'input_ids': tensor([[3828, 1996, 3058]]), 'token_type_ids': tensor([[0, 0, 0]])}\n"
          ],
          "name": "stdout"
        }
      ]
    },
    {
      "cell_type": "code",
      "metadata": {
        "id": "mkEa2EyhHj8E"
      },
      "source": [
        "import torch\n",
        "import torch.nn as nn"
      ],
      "execution_count": 11,
      "outputs": []
    },
    {
      "cell_type": "code",
      "metadata": {
        "id": "xa8Kf3q2rgdx"
      },
      "source": [
        "class BertBinaryClassifier(nn.Module):\n",
        "    def __init__(self, dropout=0.1):\n",
        "        super(BertBinaryClassifier, self).__init__()\n",
        "        self.bert = BertModel.from_pretrained('bert-base-uncased')\n",
        "        self.linear = nn.Linear(768,3)\n",
        "        self.sigmoid = nn.Sigmoid()\n",
        "    \n",
        "    def forward(self, tokens):\n",
        "        _, dropout_output = self.bert(tokens)\n",
        "        linear_output = self.linear(dropout_output)\n",
        "        proba = self.sigmoid(linear_output)\n",
        "        return proba\n",
        "    "
      ],
      "execution_count": 12,
      "outputs": []
    },
    {
      "cell_type": "code",
      "metadata": {
        "id": "1lFyGR1XHUul",
        "outputId": "c4142aec-e658-473a-d488-92ea227854d5",
        "colab": {
          "base_uri": "https://localhost:8080/",
          "height": 246
        }
      },
      "source": [
        "bert_clf = BertBinaryClassifier()\n",
        "optimizer = torch.optim.Adam(bert_clf.parameters(), lr=3e-6)\n",
        "bert_clf.train()\n",
        "for epoch_num in range(1):\n",
        "    for batch_data,batch_prob in zip(tokenized_text,trainLabels):\n",
        "        probas = bert_clf(batch_data['input_ids'])\n",
        "        print(probas)\n",
        "        loss_func = nn.MSELoss()\n",
        "        batch_loss = loss_func(probas, torch.FloatTensor(batch_prob))\n",
        "        bert_clf.zero_grad()\n",
        "        batch_loss.backward()\n",
        "        optimizer.step()\n"
      ],
      "execution_count": 14,
      "outputs": [
        {
          "output_type": "stream",
          "text": [
            "tensor([[0.4371, 0.4922, 0.5090]], grad_fn=<SigmoidBackward>)\n"
          ],
          "name": "stdout"
        },
        {
          "output_type": "error",
          "ename": "ValueError",
          "evalue": "ignored",
          "traceback": [
            "\u001b[0;31m---------------------------------------------------------------------------\u001b[0m",
            "\u001b[0;31mValueError\u001b[0m                                Traceback (most recent call last)",
            "\u001b[0;32m<ipython-input-14-ccadcc10a8fb>\u001b[0m in \u001b[0;36m<module>\u001b[0;34m()\u001b[0m\n\u001b[1;32m      7\u001b[0m         \u001b[0mprint\u001b[0m\u001b[0;34m(\u001b[0m\u001b[0mprobas\u001b[0m\u001b[0;34m)\u001b[0m\u001b[0;34m\u001b[0m\u001b[0;34m\u001b[0m\u001b[0m\n\u001b[1;32m      8\u001b[0m         \u001b[0mloss_func\u001b[0m \u001b[0;34m=\u001b[0m \u001b[0mnn\u001b[0m\u001b[0;34m.\u001b[0m\u001b[0mMSELoss\u001b[0m\u001b[0;34m(\u001b[0m\u001b[0;34m)\u001b[0m\u001b[0;34m\u001b[0m\u001b[0;34m\u001b[0m\u001b[0m\n\u001b[0;32m----> 9\u001b[0;31m         \u001b[0mbatch_loss\u001b[0m \u001b[0;34m=\u001b[0m \u001b[0mloss_func\u001b[0m\u001b[0;34m(\u001b[0m\u001b[0mprobas\u001b[0m\u001b[0;34m,\u001b[0m \u001b[0mtorch\u001b[0m\u001b[0;34m.\u001b[0m\u001b[0mFloatTensor\u001b[0m\u001b[0;34m(\u001b[0m\u001b[0mbatch_prob\u001b[0m\u001b[0;34m)\u001b[0m\u001b[0;34m)\u001b[0m\u001b[0;34m\u001b[0m\u001b[0;34m\u001b[0m\u001b[0m\n\u001b[0m\u001b[1;32m     10\u001b[0m         \u001b[0mbert_clf\u001b[0m\u001b[0;34m.\u001b[0m\u001b[0mzero_grad\u001b[0m\u001b[0;34m(\u001b[0m\u001b[0;34m)\u001b[0m\u001b[0;34m\u001b[0m\u001b[0;34m\u001b[0m\u001b[0m\n\u001b[1;32m     11\u001b[0m         \u001b[0mbatch_loss\u001b[0m\u001b[0;34m.\u001b[0m\u001b[0mbackward\u001b[0m\u001b[0;34m(\u001b[0m\u001b[0;34m)\u001b[0m\u001b[0;34m\u001b[0m\u001b[0;34m\u001b[0m\u001b[0m\n",
            "\u001b[0;31mValueError\u001b[0m: too many dimensions 'str'"
          ]
        }
      ]
    },
    {
      "cell_type": "code",
      "metadata": {
        "id": "Q3XFKoqFHqJS"
      },
      "source": [
        ""
      ],
      "execution_count": null,
      "outputs": []
    }
  ]
}