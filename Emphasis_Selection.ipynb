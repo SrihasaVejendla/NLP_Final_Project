{
  "nbformat": 4,
  "nbformat_minor": 0,
  "metadata": {
    "colab": {
      "name": "Emphasis_Selection.ipynb",
      "provenance": [],
      "collapsed_sections": [],
      "include_colab_link": true
    },
    "kernelspec": {
      "display_name": "Python 3",
      "language": "python",
      "name": "python3"
    },
    "language_info": {
      "codemirror_mode": {
        "name": "ipython",
        "version": 3
      },
      "file_extension": ".py",
      "mimetype": "text/x-python",
      "name": "python",
      "nbconvert_exporter": "python",
      "pygments_lexer": "ipython3",
      "version": "3.8.3"
    },
    "widgets": {
      "application/vnd.jupyter.widget-state+json": {
        "315520e148b043dda8a892d3bec66677": {
          "model_module": "@jupyter-widgets/controls",
          "model_name": "HBoxModel",
          "state": {
            "_view_name": "HBoxView",
            "_dom_classes": [],
            "_model_name": "HBoxModel",
            "_view_module": "@jupyter-widgets/controls",
            "_model_module_version": "1.5.0",
            "_view_count": null,
            "_view_module_version": "1.5.0",
            "box_style": "",
            "layout": "IPY_MODEL_6e729449c50742239ab9a3026711f64c",
            "_model_module": "@jupyter-widgets/controls",
            "children": [
              "IPY_MODEL_21a0aa07f2c84365aa3432abcf4ad3c4",
              "IPY_MODEL_291dab7cf8fb4e6bb4e38e32d25858d4"
            ]
          }
        },
        "6e729449c50742239ab9a3026711f64c": {
          "model_module": "@jupyter-widgets/base",
          "model_name": "LayoutModel",
          "state": {
            "_view_name": "LayoutView",
            "grid_template_rows": null,
            "right": null,
            "justify_content": null,
            "_view_module": "@jupyter-widgets/base",
            "overflow": null,
            "_model_module_version": "1.2.0",
            "_view_count": null,
            "flex_flow": null,
            "width": null,
            "min_width": null,
            "border": null,
            "align_items": null,
            "bottom": null,
            "_model_module": "@jupyter-widgets/base",
            "top": null,
            "grid_column": null,
            "overflow_y": null,
            "overflow_x": null,
            "grid_auto_flow": null,
            "grid_area": null,
            "grid_template_columns": null,
            "flex": null,
            "_model_name": "LayoutModel",
            "justify_items": null,
            "grid_row": null,
            "max_height": null,
            "align_content": null,
            "visibility": null,
            "align_self": null,
            "height": null,
            "min_height": null,
            "padding": null,
            "grid_auto_rows": null,
            "grid_gap": null,
            "max_width": null,
            "order": null,
            "_view_module_version": "1.2.0",
            "grid_template_areas": null,
            "object_position": null,
            "object_fit": null,
            "grid_auto_columns": null,
            "margin": null,
            "display": null,
            "left": null
          }
        },
        "21a0aa07f2c84365aa3432abcf4ad3c4": {
          "model_module": "@jupyter-widgets/controls",
          "model_name": "FloatProgressModel",
          "state": {
            "_view_name": "ProgressView",
            "style": "IPY_MODEL_c7b29dd834344975891b9c5072a2a259",
            "_dom_classes": [],
            "description": "Downloading: 100%",
            "_model_name": "FloatProgressModel",
            "bar_style": "success",
            "max": 440474579,
            "_view_module": "@jupyter-widgets/controls",
            "_model_module_version": "1.5.0",
            "value": 440474579,
            "_view_count": null,
            "_view_module_version": "1.5.0",
            "orientation": "horizontal",
            "min": 0,
            "description_tooltip": null,
            "_model_module": "@jupyter-widgets/controls",
            "layout": "IPY_MODEL_43b6a1e3deb74e5b83b04261179d4bd5"
          }
        },
        "291dab7cf8fb4e6bb4e38e32d25858d4": {
          "model_module": "@jupyter-widgets/controls",
          "model_name": "HTMLModel",
          "state": {
            "_view_name": "HTMLView",
            "style": "IPY_MODEL_3edddf8c62ec44b398d6c2d5c59d8013",
            "_dom_classes": [],
            "description": "",
            "_model_name": "HTMLModel",
            "placeholder": "​",
            "_view_module": "@jupyter-widgets/controls",
            "_model_module_version": "1.5.0",
            "value": " 440M/440M [00:47&lt;00:00, 9.27MB/s]",
            "_view_count": null,
            "_view_module_version": "1.5.0",
            "description_tooltip": null,
            "_model_module": "@jupyter-widgets/controls",
            "layout": "IPY_MODEL_8be930d499b6424c83fae4be9bec40ce"
          }
        },
        "c7b29dd834344975891b9c5072a2a259": {
          "model_module": "@jupyter-widgets/controls",
          "model_name": "ProgressStyleModel",
          "state": {
            "_view_name": "StyleView",
            "_model_name": "ProgressStyleModel",
            "description_width": "initial",
            "_view_module": "@jupyter-widgets/base",
            "_model_module_version": "1.5.0",
            "_view_count": null,
            "_view_module_version": "1.2.0",
            "bar_color": null,
            "_model_module": "@jupyter-widgets/controls"
          }
        },
        "43b6a1e3deb74e5b83b04261179d4bd5": {
          "model_module": "@jupyter-widgets/base",
          "model_name": "LayoutModel",
          "state": {
            "_view_name": "LayoutView",
            "grid_template_rows": null,
            "right": null,
            "justify_content": null,
            "_view_module": "@jupyter-widgets/base",
            "overflow": null,
            "_model_module_version": "1.2.0",
            "_view_count": null,
            "flex_flow": null,
            "width": null,
            "min_width": null,
            "border": null,
            "align_items": null,
            "bottom": null,
            "_model_module": "@jupyter-widgets/base",
            "top": null,
            "grid_column": null,
            "overflow_y": null,
            "overflow_x": null,
            "grid_auto_flow": null,
            "grid_area": null,
            "grid_template_columns": null,
            "flex": null,
            "_model_name": "LayoutModel",
            "justify_items": null,
            "grid_row": null,
            "max_height": null,
            "align_content": null,
            "visibility": null,
            "align_self": null,
            "height": null,
            "min_height": null,
            "padding": null,
            "grid_auto_rows": null,
            "grid_gap": null,
            "max_width": null,
            "order": null,
            "_view_module_version": "1.2.0",
            "grid_template_areas": null,
            "object_position": null,
            "object_fit": null,
            "grid_auto_columns": null,
            "margin": null,
            "display": null,
            "left": null
          }
        },
        "3edddf8c62ec44b398d6c2d5c59d8013": {
          "model_module": "@jupyter-widgets/controls",
          "model_name": "DescriptionStyleModel",
          "state": {
            "_view_name": "StyleView",
            "_model_name": "DescriptionStyleModel",
            "description_width": "",
            "_view_module": "@jupyter-widgets/base",
            "_model_module_version": "1.5.0",
            "_view_count": null,
            "_view_module_version": "1.2.0",
            "_model_module": "@jupyter-widgets/controls"
          }
        },
        "8be930d499b6424c83fae4be9bec40ce": {
          "model_module": "@jupyter-widgets/base",
          "model_name": "LayoutModel",
          "state": {
            "_view_name": "LayoutView",
            "grid_template_rows": null,
            "right": null,
            "justify_content": null,
            "_view_module": "@jupyter-widgets/base",
            "overflow": null,
            "_model_module_version": "1.2.0",
            "_view_count": null,
            "flex_flow": null,
            "width": null,
            "min_width": null,
            "border": null,
            "align_items": null,
            "bottom": null,
            "_model_module": "@jupyter-widgets/base",
            "top": null,
            "grid_column": null,
            "overflow_y": null,
            "overflow_x": null,
            "grid_auto_flow": null,
            "grid_area": null,
            "grid_template_columns": null,
            "flex": null,
            "_model_name": "LayoutModel",
            "justify_items": null,
            "grid_row": null,
            "max_height": null,
            "align_content": null,
            "visibility": null,
            "align_self": null,
            "height": null,
            "min_height": null,
            "padding": null,
            "grid_auto_rows": null,
            "grid_gap": null,
            "max_width": null,
            "order": null,
            "_view_module_version": "1.2.0",
            "grid_template_areas": null,
            "object_position": null,
            "object_fit": null,
            "grid_auto_columns": null,
            "margin": null,
            "display": null,
            "left": null
          }
        },
        "387dea2c73604046ba827abd36b8a627": {
          "model_module": "@jupyter-widgets/controls",
          "model_name": "HBoxModel",
          "state": {
            "_view_name": "HBoxView",
            "_dom_classes": [],
            "_model_name": "HBoxModel",
            "_view_module": "@jupyter-widgets/controls",
            "_model_module_version": "1.5.0",
            "_view_count": null,
            "_view_module_version": "1.5.0",
            "box_style": "",
            "layout": "IPY_MODEL_79e9ef6e0323405faa47a47894618837",
            "_model_module": "@jupyter-widgets/controls",
            "children": [
              "IPY_MODEL_58e1e050abcb4011b608668cd401b60a",
              "IPY_MODEL_7a6d263287f4465fb5c39825e984eac5"
            ]
          }
        },
        "79e9ef6e0323405faa47a47894618837": {
          "model_module": "@jupyter-widgets/base",
          "model_name": "LayoutModel",
          "state": {
            "_view_name": "LayoutView",
            "grid_template_rows": null,
            "right": null,
            "justify_content": null,
            "_view_module": "@jupyter-widgets/base",
            "overflow": null,
            "_model_module_version": "1.2.0",
            "_view_count": null,
            "flex_flow": null,
            "width": null,
            "min_width": null,
            "border": null,
            "align_items": null,
            "bottom": null,
            "_model_module": "@jupyter-widgets/base",
            "top": null,
            "grid_column": null,
            "overflow_y": null,
            "overflow_x": null,
            "grid_auto_flow": null,
            "grid_area": null,
            "grid_template_columns": null,
            "flex": null,
            "_model_name": "LayoutModel",
            "justify_items": null,
            "grid_row": null,
            "max_height": null,
            "align_content": null,
            "visibility": null,
            "align_self": null,
            "height": null,
            "min_height": null,
            "padding": null,
            "grid_auto_rows": null,
            "grid_gap": null,
            "max_width": null,
            "order": null,
            "_view_module_version": "1.2.0",
            "grid_template_areas": null,
            "object_position": null,
            "object_fit": null,
            "grid_auto_columns": null,
            "margin": null,
            "display": null,
            "left": null
          }
        },
        "58e1e050abcb4011b608668cd401b60a": {
          "model_module": "@jupyter-widgets/controls",
          "model_name": "FloatProgressModel",
          "state": {
            "_view_name": "ProgressView",
            "style": "IPY_MODEL_4574afdc22f641e786592059c05565e0",
            "_dom_classes": [],
            "description": "Downloading: 100%",
            "_model_name": "FloatProgressModel",
            "bar_style": "success",
            "max": 480,
            "_view_module": "@jupyter-widgets/controls",
            "_model_module_version": "1.5.0",
            "value": 480,
            "_view_count": null,
            "_view_module_version": "1.5.0",
            "orientation": "horizontal",
            "min": 0,
            "description_tooltip": null,
            "_model_module": "@jupyter-widgets/controls",
            "layout": "IPY_MODEL_3869b905b65f4911b238effe68e2ea4e"
          }
        },
        "7a6d263287f4465fb5c39825e984eac5": {
          "model_module": "@jupyter-widgets/controls",
          "model_name": "HTMLModel",
          "state": {
            "_view_name": "HTMLView",
            "style": "IPY_MODEL_a86040a3a47f4249bc0395118ad966eb",
            "_dom_classes": [],
            "description": "",
            "_model_name": "HTMLModel",
            "placeholder": "​",
            "_view_module": "@jupyter-widgets/controls",
            "_model_module_version": "1.5.0",
            "value": " 480/480 [00:00&lt;00:00, 709B/s]",
            "_view_count": null,
            "_view_module_version": "1.5.0",
            "description_tooltip": null,
            "_model_module": "@jupyter-widgets/controls",
            "layout": "IPY_MODEL_437c5a3992a54071ae16d006b17f2f32"
          }
        },
        "4574afdc22f641e786592059c05565e0": {
          "model_module": "@jupyter-widgets/controls",
          "model_name": "ProgressStyleModel",
          "state": {
            "_view_name": "StyleView",
            "_model_name": "ProgressStyleModel",
            "description_width": "initial",
            "_view_module": "@jupyter-widgets/base",
            "_model_module_version": "1.5.0",
            "_view_count": null,
            "_view_module_version": "1.2.0",
            "bar_color": null,
            "_model_module": "@jupyter-widgets/controls"
          }
        },
        "3869b905b65f4911b238effe68e2ea4e": {
          "model_module": "@jupyter-widgets/base",
          "model_name": "LayoutModel",
          "state": {
            "_view_name": "LayoutView",
            "grid_template_rows": null,
            "right": null,
            "justify_content": null,
            "_view_module": "@jupyter-widgets/base",
            "overflow": null,
            "_model_module_version": "1.2.0",
            "_view_count": null,
            "flex_flow": null,
            "width": null,
            "min_width": null,
            "border": null,
            "align_items": null,
            "bottom": null,
            "_model_module": "@jupyter-widgets/base",
            "top": null,
            "grid_column": null,
            "overflow_y": null,
            "overflow_x": null,
            "grid_auto_flow": null,
            "grid_area": null,
            "grid_template_columns": null,
            "flex": null,
            "_model_name": "LayoutModel",
            "justify_items": null,
            "grid_row": null,
            "max_height": null,
            "align_content": null,
            "visibility": null,
            "align_self": null,
            "height": null,
            "min_height": null,
            "padding": null,
            "grid_auto_rows": null,
            "grid_gap": null,
            "max_width": null,
            "order": null,
            "_view_module_version": "1.2.0",
            "grid_template_areas": null,
            "object_position": null,
            "object_fit": null,
            "grid_auto_columns": null,
            "margin": null,
            "display": null,
            "left": null
          }
        },
        "a86040a3a47f4249bc0395118ad966eb": {
          "model_module": "@jupyter-widgets/controls",
          "model_name": "DescriptionStyleModel",
          "state": {
            "_view_name": "StyleView",
            "_model_name": "DescriptionStyleModel",
            "description_width": "",
            "_view_module": "@jupyter-widgets/base",
            "_model_module_version": "1.5.0",
            "_view_count": null,
            "_view_module_version": "1.2.0",
            "_model_module": "@jupyter-widgets/controls"
          }
        },
        "437c5a3992a54071ae16d006b17f2f32": {
          "model_module": "@jupyter-widgets/base",
          "model_name": "LayoutModel",
          "state": {
            "_view_name": "LayoutView",
            "grid_template_rows": null,
            "right": null,
            "justify_content": null,
            "_view_module": "@jupyter-widgets/base",
            "overflow": null,
            "_model_module_version": "1.2.0",
            "_view_count": null,
            "flex_flow": null,
            "width": null,
            "min_width": null,
            "border": null,
            "align_items": null,
            "bottom": null,
            "_model_module": "@jupyter-widgets/base",
            "top": null,
            "grid_column": null,
            "overflow_y": null,
            "overflow_x": null,
            "grid_auto_flow": null,
            "grid_area": null,
            "grid_template_columns": null,
            "flex": null,
            "_model_name": "LayoutModel",
            "justify_items": null,
            "grid_row": null,
            "max_height": null,
            "align_content": null,
            "visibility": null,
            "align_self": null,
            "height": null,
            "min_height": null,
            "padding": null,
            "grid_auto_rows": null,
            "grid_gap": null,
            "max_width": null,
            "order": null,
            "_view_module_version": "1.2.0",
            "grid_template_areas": null,
            "object_position": null,
            "object_fit": null,
            "grid_auto_columns": null,
            "margin": null,
            "display": null,
            "left": null
          }
        },
        "340ca41f70584799941159ecfcba50de": {
          "model_module": "@jupyter-widgets/controls",
          "model_name": "HBoxModel",
          "state": {
            "_view_name": "HBoxView",
            "_dom_classes": [],
            "_model_name": "HBoxModel",
            "_view_module": "@jupyter-widgets/controls",
            "_model_module_version": "1.5.0",
            "_view_count": null,
            "_view_module_version": "1.5.0",
            "box_style": "",
            "layout": "IPY_MODEL_f7e0b1c378a947e984b077f925d63e25",
            "_model_module": "@jupyter-widgets/controls",
            "children": [
              "IPY_MODEL_431cbf02dde841579e65ee868e6a0522",
              "IPY_MODEL_92a9bdd49e784cf68769c52e4a490585"
            ]
          }
        },
        "f7e0b1c378a947e984b077f925d63e25": {
          "model_module": "@jupyter-widgets/base",
          "model_name": "LayoutModel",
          "state": {
            "_view_name": "LayoutView",
            "grid_template_rows": null,
            "right": null,
            "justify_content": null,
            "_view_module": "@jupyter-widgets/base",
            "overflow": null,
            "_model_module_version": "1.2.0",
            "_view_count": null,
            "flex_flow": null,
            "width": null,
            "min_width": null,
            "border": null,
            "align_items": null,
            "bottom": null,
            "_model_module": "@jupyter-widgets/base",
            "top": null,
            "grid_column": null,
            "overflow_y": null,
            "overflow_x": null,
            "grid_auto_flow": null,
            "grid_area": null,
            "grid_template_columns": null,
            "flex": null,
            "_model_name": "LayoutModel",
            "justify_items": null,
            "grid_row": null,
            "max_height": null,
            "align_content": null,
            "visibility": null,
            "align_self": null,
            "height": null,
            "min_height": null,
            "padding": null,
            "grid_auto_rows": null,
            "grid_gap": null,
            "max_width": null,
            "order": null,
            "_view_module_version": "1.2.0",
            "grid_template_areas": null,
            "object_position": null,
            "object_fit": null,
            "grid_auto_columns": null,
            "margin": null,
            "display": null,
            "left": null
          }
        },
        "431cbf02dde841579e65ee868e6a0522": {
          "model_module": "@jupyter-widgets/controls",
          "model_name": "FloatProgressModel",
          "state": {
            "_view_name": "ProgressView",
            "style": "IPY_MODEL_b1f7958f75ce4488bb57c4e633a43e0c",
            "_dom_classes": [],
            "description": "Downloading: 100%",
            "_model_name": "FloatProgressModel",
            "bar_style": "success",
            "max": 1345000306,
            "_view_module": "@jupyter-widgets/controls",
            "_model_module_version": "1.5.0",
            "value": 1345000306,
            "_view_count": null,
            "_view_module_version": "1.5.0",
            "orientation": "horizontal",
            "min": 0,
            "description_tooltip": null,
            "_model_module": "@jupyter-widgets/controls",
            "layout": "IPY_MODEL_39ea4700801e465a8901b4bd4bfa02f8"
          }
        },
        "92a9bdd49e784cf68769c52e4a490585": {
          "model_module": "@jupyter-widgets/controls",
          "model_name": "HTMLModel",
          "state": {
            "_view_name": "HTMLView",
            "style": "IPY_MODEL_df9777922b6142c78c6908280eb7a36a",
            "_dom_classes": [],
            "description": "",
            "_model_name": "HTMLModel",
            "placeholder": "​",
            "_view_module": "@jupyter-widgets/controls",
            "_model_module_version": "1.5.0",
            "value": " 1.35G/1.35G [00:26&lt;00:00, 51.3MB/s]",
            "_view_count": null,
            "_view_module_version": "1.5.0",
            "description_tooltip": null,
            "_model_module": "@jupyter-widgets/controls",
            "layout": "IPY_MODEL_f64b4ff64f8f4d968caf86396d6a68ea"
          }
        },
        "b1f7958f75ce4488bb57c4e633a43e0c": {
          "model_module": "@jupyter-widgets/controls",
          "model_name": "ProgressStyleModel",
          "state": {
            "_view_name": "StyleView",
            "_model_name": "ProgressStyleModel",
            "description_width": "initial",
            "_view_module": "@jupyter-widgets/base",
            "_model_module_version": "1.5.0",
            "_view_count": null,
            "_view_module_version": "1.2.0",
            "bar_color": null,
            "_model_module": "@jupyter-widgets/controls"
          }
        },
        "39ea4700801e465a8901b4bd4bfa02f8": {
          "model_module": "@jupyter-widgets/base",
          "model_name": "LayoutModel",
          "state": {
            "_view_name": "LayoutView",
            "grid_template_rows": null,
            "right": null,
            "justify_content": null,
            "_view_module": "@jupyter-widgets/base",
            "overflow": null,
            "_model_module_version": "1.2.0",
            "_view_count": null,
            "flex_flow": null,
            "width": null,
            "min_width": null,
            "border": null,
            "align_items": null,
            "bottom": null,
            "_model_module": "@jupyter-widgets/base",
            "top": null,
            "grid_column": null,
            "overflow_y": null,
            "overflow_x": null,
            "grid_auto_flow": null,
            "grid_area": null,
            "grid_template_columns": null,
            "flex": null,
            "_model_name": "LayoutModel",
            "justify_items": null,
            "grid_row": null,
            "max_height": null,
            "align_content": null,
            "visibility": null,
            "align_self": null,
            "height": null,
            "min_height": null,
            "padding": null,
            "grid_auto_rows": null,
            "grid_gap": null,
            "max_width": null,
            "order": null,
            "_view_module_version": "1.2.0",
            "grid_template_areas": null,
            "object_position": null,
            "object_fit": null,
            "grid_auto_columns": null,
            "margin": null,
            "display": null,
            "left": null
          }
        },
        "df9777922b6142c78c6908280eb7a36a": {
          "model_module": "@jupyter-widgets/controls",
          "model_name": "DescriptionStyleModel",
          "state": {
            "_view_name": "StyleView",
            "_model_name": "DescriptionStyleModel",
            "description_width": "",
            "_view_module": "@jupyter-widgets/base",
            "_model_module_version": "1.5.0",
            "_view_count": null,
            "_view_module_version": "1.2.0",
            "_model_module": "@jupyter-widgets/controls"
          }
        },
        "f64b4ff64f8f4d968caf86396d6a68ea": {
          "model_module": "@jupyter-widgets/base",
          "model_name": "LayoutModel",
          "state": {
            "_view_name": "LayoutView",
            "grid_template_rows": null,
            "right": null,
            "justify_content": null,
            "_view_module": "@jupyter-widgets/base",
            "overflow": null,
            "_model_module_version": "1.2.0",
            "_view_count": null,
            "flex_flow": null,
            "width": null,
            "min_width": null,
            "border": null,
            "align_items": null,
            "bottom": null,
            "_model_module": "@jupyter-widgets/base",
            "top": null,
            "grid_column": null,
            "overflow_y": null,
            "overflow_x": null,
            "grid_auto_flow": null,
            "grid_area": null,
            "grid_template_columns": null,
            "flex": null,
            "_model_name": "LayoutModel",
            "justify_items": null,
            "grid_row": null,
            "max_height": null,
            "align_content": null,
            "visibility": null,
            "align_self": null,
            "height": null,
            "min_height": null,
            "padding": null,
            "grid_auto_rows": null,
            "grid_gap": null,
            "max_width": null,
            "order": null,
            "_view_module_version": "1.2.0",
            "grid_template_areas": null,
            "object_position": null,
            "object_fit": null,
            "grid_auto_columns": null,
            "margin": null,
            "display": null,
            "left": null
          }
        }
      }
    }
  },
  "cells": [
    {
      "cell_type": "markdown",
      "metadata": {
        "id": "view-in-github",
        "colab_type": "text"
      },
      "source": [
        "<a href=\"https://colab.research.google.com/github/phanikarra15/NLP_Final_Project/blob/main/Emphasis_Selection.ipynb\" target=\"_parent\"><img src=\"https://colab.research.google.com/assets/colab-badge.svg\" alt=\"Open In Colab\"/></a>"
      ]
    },
    {
      "cell_type": "code",
      "metadata": {
        "id": "_YK14lM38B3n"
      },
      "source": [
        "!nvidia-smi\n"
      ],
      "execution_count": null,
      "outputs": []
    },
    {
      "cell_type": "code",
      "metadata": {
        "id": "s6KNiijNYN-K",
        "outputId": "767b6a40-865e-423d-c2c4-fca21f94cbb6",
        "colab": {
          "base_uri": "https://localhost:8080/"
        }
      },
      "source": [
        "pip install transformers"
      ],
      "execution_count": 1,
      "outputs": [
        {
          "output_type": "stream",
          "text": [
            "Collecting transformers\n",
            "\u001b[?25l  Downloading https://files.pythonhosted.org/packages/2c/4e/4f1ede0fd7a36278844a277f8d53c21f88f37f3754abf76a5d6224f76d4a/transformers-3.4.0-py3-none-any.whl (1.3MB)\n",
            "\u001b[K     |████████████████████████████████| 1.3MB 2.8MB/s \n",
            "\u001b[?25hCollecting tokenizers==0.9.2\n",
            "\u001b[?25l  Downloading https://files.pythonhosted.org/packages/7c/a5/78be1a55b2ac8d6a956f0a211d372726e2b1dd2666bb537fea9b03abd62c/tokenizers-0.9.2-cp36-cp36m-manylinux1_x86_64.whl (2.9MB)\n",
            "\u001b[K     |████████████████████████████████| 2.9MB 16.3MB/s \n",
            "\u001b[?25hRequirement already satisfied: dataclasses; python_version < \"3.7\" in /usr/local/lib/python3.6/dist-packages (from transformers) (0.7)\n",
            "Requirement already satisfied: tqdm>=4.27 in /usr/local/lib/python3.6/dist-packages (from transformers) (4.41.1)\n",
            "Requirement already satisfied: requests in /usr/local/lib/python3.6/dist-packages (from transformers) (2.23.0)\n",
            "Requirement already satisfied: protobuf in /usr/local/lib/python3.6/dist-packages (from transformers) (3.12.4)\n",
            "Collecting sacremoses\n",
            "\u001b[?25l  Downloading https://files.pythonhosted.org/packages/7d/34/09d19aff26edcc8eb2a01bed8e98f13a1537005d31e95233fd48216eed10/sacremoses-0.0.43.tar.gz (883kB)\n",
            "\u001b[K     |████████████████████████████████| 890kB 28.5MB/s \n",
            "\u001b[?25hRequirement already satisfied: filelock in /usr/local/lib/python3.6/dist-packages (from transformers) (3.0.12)\n",
            "Requirement already satisfied: packaging in /usr/local/lib/python3.6/dist-packages (from transformers) (20.4)\n",
            "Requirement already satisfied: numpy in /usr/local/lib/python3.6/dist-packages (from transformers) (1.18.5)\n",
            "Collecting sentencepiece!=0.1.92\n",
            "\u001b[?25l  Downloading https://files.pythonhosted.org/packages/e5/2d/6d4ca4bef9a67070fa1cac508606328329152b1df10bdf31fb6e4e727894/sentencepiece-0.1.94-cp36-cp36m-manylinux2014_x86_64.whl (1.1MB)\n",
            "\u001b[K     |████████████████████████████████| 1.1MB 40.9MB/s \n",
            "\u001b[?25hRequirement already satisfied: regex!=2019.12.17 in /usr/local/lib/python3.6/dist-packages (from transformers) (2019.12.20)\n",
            "Requirement already satisfied: urllib3!=1.25.0,!=1.25.1,<1.26,>=1.21.1 in /usr/local/lib/python3.6/dist-packages (from requests->transformers) (1.24.3)\n",
            "Requirement already satisfied: certifi>=2017.4.17 in /usr/local/lib/python3.6/dist-packages (from requests->transformers) (2020.6.20)\n",
            "Requirement already satisfied: chardet<4,>=3.0.2 in /usr/local/lib/python3.6/dist-packages (from requests->transformers) (3.0.4)\n",
            "Requirement already satisfied: idna<3,>=2.5 in /usr/local/lib/python3.6/dist-packages (from requests->transformers) (2.10)\n",
            "Requirement already satisfied: six>=1.9 in /usr/local/lib/python3.6/dist-packages (from protobuf->transformers) (1.15.0)\n",
            "Requirement already satisfied: setuptools in /usr/local/lib/python3.6/dist-packages (from protobuf->transformers) (50.3.2)\n",
            "Requirement already satisfied: click in /usr/local/lib/python3.6/dist-packages (from sacremoses->transformers) (7.1.2)\n",
            "Requirement already satisfied: joblib in /usr/local/lib/python3.6/dist-packages (from sacremoses->transformers) (0.17.0)\n",
            "Requirement already satisfied: pyparsing>=2.0.2 in /usr/local/lib/python3.6/dist-packages (from packaging->transformers) (2.4.7)\n",
            "Building wheels for collected packages: sacremoses\n",
            "  Building wheel for sacremoses (setup.py) ... \u001b[?25l\u001b[?25hdone\n",
            "  Created wheel for sacremoses: filename=sacremoses-0.0.43-cp36-none-any.whl size=893257 sha256=f74258c102301833bbb87429c5a88076813ab4230b63750b9e634b25ed5f3edb\n",
            "  Stored in directory: /root/.cache/pip/wheels/29/3c/fd/7ce5c3f0666dab31a50123635e6fb5e19ceb42ce38d4e58f45\n",
            "Successfully built sacremoses\n",
            "Installing collected packages: tokenizers, sacremoses, sentencepiece, transformers\n",
            "Successfully installed sacremoses-0.0.43 sentencepiece-0.1.94 tokenizers-0.9.2 transformers-3.4.0\n"
          ],
          "name": "stdout"
        }
      ]
    },
    {
      "cell_type": "code",
      "metadata": {
        "id": "ABslhMYDTn2v",
        "outputId": "b227799d-5f3b-42ab-a253-5f6fe77a8462",
        "colab": {
          "base_uri": "https://localhost:8080/"
        }
      },
      "source": [
        "import torch\n",
        "import torch.nn as nn\n",
        "import torch.optim as optim\n",
        "from transformers import AutoTokenizer, AutoModel\n",
        "\n",
        "\n",
        "device = torch.device('cuda') if torch.cuda.is_available() else torch.device('cpu')\n",
        "tokenizer = AutoTokenizer.from_pretrained(\"nghuyong/ernie-2.0-en\")\n",
        "print(device)"
      ],
      "execution_count": 6,
      "outputs": [
        {
          "output_type": "stream",
          "text": [
            "cpu\n"
          ],
          "name": "stdout"
        }
      ]
    },
    {
      "cell_type": "code",
      "metadata": {
        "id": "rpetzFRcWBmg"
      },
      "source": [
        "def dataset(filename):\n",
        "    with open(filename,'r') as fp:\n",
        "        lines = [line.strip() for line in fp]\n",
        "    return lines"
      ],
      "execution_count": 7,
      "outputs": []
    },
    {
      "cell_type": "code",
      "metadata": {
        "id": "qwPuzPYsWBp3"
      },
      "source": [
        "def wordData(data):\n",
        "    wordLines = data\n",
        "    words = []\n",
        "    probabilities = []\n",
        "    wordList = []\n",
        "    pos = []\n",
        "    empty = []\n",
        "    for line in wordLines:\n",
        "        lineSplit = line.strip().split('\\t')\n",
        "        if line:\n",
        "            word = lineSplit[1]\n",
        "            prob = lineSplit[4]\n",
        "            temp = lineSplit[5]\n",
        "            words.append(word)\n",
        "            probabilities.append(prob)\n",
        "            pos.append(temp)\n",
        "        elif not (len(empty) and []):\n",
        "            wordList.append((words, pos, probabilities))\n",
        "            words = []\n",
        "            probabilities = []\n",
        "            pos = []\n",
        "    return wordList"
      ],
      "execution_count": 8,
      "outputs": []
    },
    {
      "cell_type": "code",
      "metadata": {
        "id": "1ugzYtznWB1X"
      },
      "source": [
        "def wordtest(data):\n",
        "    wordLines = data\n",
        "    words = []\n",
        "    testWord = []\n",
        "    empty = []\n",
        "    for line in wordLines:\n",
        "        lineSplit = line.strip().split('\\t')\n",
        "        if line:\n",
        "            word = lineSplit[1]            \n",
        "            words.append(word)\n",
        "        elif not len(empty):\n",
        "            testWord.append(words)\n",
        "            words = []       \n",
        "    return testWord"
      ],
      "execution_count": 9,
      "outputs": []
    },
    {
      "cell_type": "code",
      "metadata": {
        "id": "hpkAMX2uWB3y"
      },
      "source": [
        "def preTokenizing(data):\n",
        "    t = []\n",
        "    po = []\n",
        "    prob = []\n",
        "    for i,j,k in data:\n",
        "        text = []\n",
        "        pos = []\n",
        "        probs = []\n",
        "        for l in i:\n",
        "            text.append(l)\n",
        "        for m in j:\n",
        "            pos.append(m)\n",
        "        for n in k:\n",
        "            probs.append(n)\n",
        "        t.append(text)\n",
        "        po.append(pos)\n",
        "        prob.append(probs)\n",
        "    return t,po, prob"
      ],
      "execution_count": 10,
      "outputs": []
    },
    {
      "cell_type": "code",
      "metadata": {
        "id": "QYyZskVvFyYC"
      },
      "source": [
        "def encoding(data):\n",
        "    tokenized_text = []\n",
        "    for i in data:\n",
        "        sent = \"\"\n",
        "        for j in i:\n",
        "            if sent == \"\":\n",
        "                sent += j\n",
        "            else:\n",
        "                sent = sent + \" \" + j\n",
        "        tokens = tokenizer.tokenize(sent)\n",
        "        tokenized_text.append(tokens)\n",
        "        \n",
        "    tokenized_text = tokenized_text[:10]\n",
        "    \n",
        "    # Encoding each word of the sentence and appending to a list\n",
        "    en=[]\n",
        "    for i in tokenized_text:\n",
        "      en1 = []\n",
        "      for j in i:\n",
        "        en1.append(tokenizer.encode_plus(j, add_special_tokens=False, return_attention_mask=False, return_tensors='pt'))\n",
        "      en.append(en1)\n",
        "      en1 = []\n",
        "      \n",
        "    # Getting the input id's only for the list and passing them to the model \n",
        "    words = []  \n",
        "    for d in en:\n",
        "        words2 = []\n",
        "        for i in d:\n",
        "            words2.append(i['input_ids'])\n",
        "        words.append(words2)\n",
        "        words2 = []   \n",
        "        \n",
        "    return words"
      ],
      "execution_count": 11,
      "outputs": []
    },
    {
      "cell_type": "code",
      "metadata": {
        "id": "ySUjpG4g6_al"
      },
      "source": [
        "class BertBinaryClassifier(nn.Module):\n",
        "    def __init__(self):\n",
        "        super(BertBinaryClassifier, self).__init__()\n",
        "        self.bert = AutoModel.from_pretrained('nghuyong/ernie-2.0-large-en')\n",
        "        self.linear = nn.Linear(1024, 1)\n",
        "        self.sigmoid = nn.Sigmoid()\n",
        "    \n",
        "    def forward(self, tokens):\n",
        "        _, pooled_output = self.bert(tokens)\n",
        "        linear_output = self.linear(pooled_output)\n",
        "        proba = self.sigmoid(linear_output)\n",
        "        proba = proba.data.tolist()\n",
        "        return proba"
      ],
      "execution_count": 12,
      "outputs": []
    },
    {
      "cell_type": "code",
      "metadata": {
        "id": "6n7FCyJQWB7K"
      },
      "source": [
        "TRAINING_FILE = \"train.txt\"\n",
        "DEV_FILE = \"dev.txt\"\n",
        "TEST_FILE = \"test_data.txt\""
      ],
      "execution_count": 13,
      "outputs": []
    },
    {
      "cell_type": "code",
      "metadata": {
        "id": "7LqEPTt5DxPo",
        "outputId": "1dc30723-3583-4b25-b9ca-6bcc8493d411",
        "colab": {
          "base_uri": "https://localhost:8080/",
          "height": 66,
          "referenced_widgets": [
            "315520e148b043dda8a892d3bec66677",
            "6e729449c50742239ab9a3026711f64c",
            "21a0aa07f2c84365aa3432abcf4ad3c4",
            "291dab7cf8fb4e6bb4e38e32d25858d4",
            "c7b29dd834344975891b9c5072a2a259",
            "43b6a1e3deb74e5b83b04261179d4bd5",
            "3edddf8c62ec44b398d6c2d5c59d8013",
            "8be930d499b6424c83fae4be9bec40ce"
          ]
        }
      },
      "source": [
        "trainText = wordData(dataset(TRAINING_FILE))\n",
        "testEval = wordtest(dataset(TEST_FILE))\n",
        "devText = wordData(dataset(DEV_FILE))\n",
        "\n",
        "trainWords,trainTags, trainLabels = preTokenizing(trainText)\n",
        "devWords, devTags, devLabels = preTokenizing(devText)\n",
        "\n",
        "trainFinal = encoding(trainWords)\n",
        "devFinal = encoding(devWords)\n",
        "\n",
        "model = AutoModel.from_pretrained('nghuyong/ernie-2.0-en')"
      ],
      "execution_count": 14,
      "outputs": [
        {
          "output_type": "display_data",
          "data": {
            "application/vnd.jupyter.widget-view+json": {
              "model_id": "315520e148b043dda8a892d3bec66677",
              "version_minor": 0,
              "version_major": 2
            },
            "text/plain": [
              "HBox(children=(FloatProgress(value=0.0, description='Downloading', max=440474579.0, style=ProgressStyle(descri…"
            ]
          },
          "metadata": {
            "tags": []
          }
        },
        {
          "output_type": "stream",
          "text": [
            "\n"
          ],
          "name": "stdout"
        }
      ]
    },
    {
      "cell_type": "code",
      "metadata": {
        "id": "-8JuY1nznXO6",
        "outputId": "d5d11f14-88c2-4ad9-ff16-34c630978d7f",
        "colab": {
          "base_uri": "https://localhost:8080/",
          "height": 114,
          "referenced_widgets": [
            "387dea2c73604046ba827abd36b8a627",
            "79e9ef6e0323405faa47a47894618837",
            "58e1e050abcb4011b608668cd401b60a",
            "7a6d263287f4465fb5c39825e984eac5",
            "4574afdc22f641e786592059c05565e0",
            "3869b905b65f4911b238effe68e2ea4e",
            "a86040a3a47f4249bc0395118ad966eb",
            "437c5a3992a54071ae16d006b17f2f32",
            "340ca41f70584799941159ecfcba50de",
            "f7e0b1c378a947e984b077f925d63e25",
            "431cbf02dde841579e65ee868e6a0522",
            "92a9bdd49e784cf68769c52e4a490585",
            "b1f7958f75ce4488bb57c4e633a43e0c",
            "39ea4700801e465a8901b4bd4bfa02f8",
            "df9777922b6142c78c6908280eb7a36a",
            "f64b4ff64f8f4d968caf86396d6a68ea"
          ]
        }
      },
      "source": [
        "bert_clf = BertBinaryClassifier()\n",
        "optimizer = torch.optim.Adam(bert_clf.parameters(), lr=3e-6)\n",
        "bert_clf.train()\n",
        "\n",
        "loss = nn.MSELoss()"
      ],
      "execution_count": 15,
      "outputs": [
        {
          "output_type": "display_data",
          "data": {
            "application/vnd.jupyter.widget-view+json": {
              "model_id": "387dea2c73604046ba827abd36b8a627",
              "version_minor": 0,
              "version_major": 2
            },
            "text/plain": [
              "HBox(children=(FloatProgress(value=0.0, description='Downloading', max=480.0, style=ProgressStyle(description_…"
            ]
          },
          "metadata": {
            "tags": []
          }
        },
        {
          "output_type": "stream",
          "text": [
            "\n"
          ],
          "name": "stdout"
        },
        {
          "output_type": "display_data",
          "data": {
            "application/vnd.jupyter.widget-view+json": {
              "model_id": "340ca41f70584799941159ecfcba50de",
              "version_minor": 0,
              "version_major": 2
            },
            "text/plain": [
              "HBox(children=(FloatProgress(value=0.0, description='Downloading', max=1345000306.0, style=ProgressStyle(descr…"
            ]
          },
          "metadata": {
            "tags": []
          }
        },
        {
          "output_type": "stream",
          "text": [
            "\n"
          ],
          "name": "stdout"
        }
      ]
    },
    {
      "cell_type": "code",
      "metadata": {
        "id": "1yrAckC8DxPq",
        "outputId": "58d92e59-e39e-4c3d-927e-338507f96ab1",
        "colab": {
          "base_uri": "https://localhost:8080/"
        }
      },
      "source": [
        "token_answers = []\n",
        "for epoch_num in range(10):\n",
        "    print(\"epoch_num ---->{}\".format(epoch_num))\n",
        "    count = 0\n",
        "    for batch_data, batch_probs in zip(trainFinal, trainLabels):\n",
        "        bert_clf.zero_grad()\n",
        "        count = count + 1\n",
        "        answers_temp = []\n",
        "        for i in batch_data:\n",
        "            probas = bert_clf(i)\n",
        "            for item in probas:\n",
        "                for i in item:\n",
        "                    answers_temp.append(i)            \n",
        "        token_answers.append(answers_temp)\n",
        "        print(answers_temp)\n",
        "        answers_temp = []\n",
        "        if count==5:\n",
        "          break\n",
        "        try:\n",
        "          loss_func = nn.MSELoss(reduction = 'sum')\n",
        "          print(answers_temp.size, batch_probs.size)\n",
        "          batch_loss = loss_func(torch.tensor(answers_temp), torch.tensor(batch_probs))\n",
        "          print(\"loss--->\",batch_loss)\n",
        "          batch_loss.backward()\n",
        "          optimizer.step()\n",
        "        except:\n",
        "          continue"
      ],
      "execution_count": 16,
      "outputs": [
        {
          "output_type": "stream",
          "text": [
            "epoch_num ---->0\n",
            "[0.4642156958580017, 0.39215847849845886, 0.5200430154800415]\n",
            "[0.5311812162399292, 0.42274901270866394, 0.4341958463191986, 0.4749324321746826, 0.45046356320381165, 0.4826638102531433, 0.5772349834442139, 0.5682580471038818, 0.43465757369995117, 0.45676061511039734]\n",
            "[0.5211614966392517, 0.46818074584007263, 0.45808297395706177, 0.5448566675186157, 0.5301490426063538, 0.5932053327560425, 0.4058903157711029, 0.5641112327575684, 0.5177786350250244]\n",
            "[0.43581461906433105, 0.5322418808937073]\n",
            "[0.490829735994339, 0.490474671125412, 0.5540384650230408, 0.5863052606582642, 0.38763338327407837, 0.4653547704219818, 0.5995450019836426, 0.5059840679168701, 0.5074765086174011, 0.4659624993801117, 0.4335924983024597, 0.5609588027000427]\n",
            "epoch_num ---->1\n",
            "[0.6077846884727478, 0.6156833171844482, 0.5463917851448059]\n",
            "[0.5460423827171326, 0.4563975930213928, 0.45790204405784607, 0.4788731038570404, 0.36086615920066833, 0.4198920726776123, 0.40819236636161804, 0.45970144867897034, 0.47653695940971375, 0.5962625741958618]\n",
            "[0.5253294706344604, 0.4037088453769684, 0.3348339796066284, 0.6041098237037659, 0.6098343133926392, 0.439383864402771, 0.6405134797096252, 0.4827232360839844, 0.5245474576950073]\n",
            "[0.47319725155830383, 0.4416253864765167]\n",
            "[0.3910697102546692, 0.5785792469978333, 0.48893678188323975, 0.4826189875602722, 0.31725382804870605, 0.3518174886703491, 0.5264124870300293, 0.46081823110580444, 0.5478147864341736, 0.5158379077911377, 0.5086022019386292, 0.4996163249015808]\n",
            "epoch_num ---->2\n",
            "[0.5014016628265381, 0.5180962681770325, 0.5320424437522888]\n",
            "[0.4734744727611542, 0.5579872727394104, 0.5169965624809265, 0.5699262022972107, 0.4742163419723511, 0.5870491862297058, 0.6609395742416382, 0.6146283745765686, 0.5751665234565735, 0.4765435755252838]\n",
            "[0.5818139910697937, 0.5982820987701416, 0.431539922952652, 0.5525861978530884, 0.5143505930900574, 0.5220957398414612, 0.45170143246650696, 0.47399747371673584, 0.5190953016281128]\n",
            "[0.46281698346138, 0.6570558547973633]\n",
            "[0.5861054062843323, 0.45474469661712646, 0.5282309055328369, 0.51173335313797, 0.4512229263782501, 0.5212055444717407, 0.46580877900123596, 0.5554149746894836, 0.4524398744106293, 0.45351642370224, 0.4668499231338501, 0.6293773651123047]\n",
            "epoch_num ---->3\n",
            "[0.4877326786518097, 0.5019659399986267, 0.45915311574935913]\n",
            "[0.5369196534156799, 0.5595137476921082, 0.5722662210464478, 0.5918331146240234, 0.4831186830997467, 0.44106265902519226, 0.39961913228034973, 0.505696177482605, 0.3871169686317444, 0.6053516864776611]\n",
            "[0.399859219789505, 0.45448556542396545, 0.5951508283615112, 0.4097948968410492, 0.47396135330200195, 0.5077165961265564, 0.5136231780052185, 0.5161651968955994, 0.4618608057498932]\n",
            "[0.472981333732605, 0.5341976881027222]\n",
            "[0.5310325622558594, 0.5954674482345581, 0.6196125149726868, 0.606734037399292, 0.5457050204277039, 0.46730056405067444, 0.39410972595214844, 0.4368078410625458, 0.45672351121902466, 0.38990703225135803, 0.4653167724609375, 0.6246538758277893]\n",
            "epoch_num ---->4\n",
            "[0.5742492079734802, 0.4168202579021454, 0.44794681668281555]\n",
            "[0.5906644463539124, 0.5395213961601257, 0.5247172117233276, 0.5523328185081482, 0.49009642004966736, 0.5545220971107483, 0.37478771805763245, 0.4529142677783966, 0.4878748059272766, 0.4454132318496704]\n",
            "[0.49502018094062805, 0.44034484028816223, 0.4498012959957123, 0.4272818863391876, 0.5304431915283203, 0.536307156085968, 0.5608677864074707, 0.5091685056686401, 0.5426679253578186]\n",
            "[0.45878317952156067, 0.6346684694290161]\n",
            "[0.5621669888496399, 0.549173891544342, 0.5330236554145813, 0.5413488745689392, 0.5870970487594604, 0.5232976078987122, 0.4775777757167816, 0.4183266758918762, 0.43712058663368225, 0.5086647272109985, 0.3832227885723114, 0.5799636840820312]\n",
            "epoch_num ---->5\n",
            "[0.5154718160629272, 0.4421881437301636, 0.42042654752731323]\n",
            "[0.5143541097640991, 0.46147429943084717, 0.5488798022270203, 0.5934121012687683, 0.43654292821884155, 0.5107108354568481, 0.48204460740089417, 0.513132631778717, 0.3810703456401825, 0.5535467267036438]\n",
            "[0.5064099431037903, 0.6406539082527161, 0.39604732394218445, 0.5970959663391113, 0.42720648646354675, 0.5481985807418823, 0.5455402731895447, 0.5668935775756836, 0.5045809149742126]\n",
            "[0.5299450159072876, 0.406892329454422]\n",
            "[0.35694751143455505, 0.45103374123573303, 0.5920559763908386, 0.4410734176635742, 0.5080556869506836, 0.6052921414375305, 0.529046356678009, 0.5898960828781128, 0.49839624762535095, 0.4679451286792755, 0.481372207403183, 0.4330010414123535]\n",
            "epoch_num ---->6\n",
            "[0.4176921844482422, 0.5177121758460999, 0.6213425397872925]\n",
            "[0.5780882239341736, 0.4405575096607208, 0.3724832236766815, 0.5825271606445312, 0.5173419117927551, 0.5561375021934509, 0.5030207633972168, 0.44664129614830017, 0.36086881160736084, 0.4259869456291199]\n",
            "[0.5397481322288513, 0.48936164379119873, 0.4684546887874603, 0.38788044452667236, 0.5148659944534302, 0.5014014840126038, 0.6146062612533569, 0.5235554575920105, 0.5075163841247559]\n",
            "[0.5698630213737488, 0.5958113670349121]\n",
            "[0.5280969738960266, 0.642869770526886, 0.42215320467948914, 0.4761410355567932, 0.40695512294769287, 0.5324201583862305, 0.5137515068054199, 0.6156235933303833, 0.5464826226234436, 0.4635993540287018, 0.4208378493785858, 0.505892813205719]\n",
            "epoch_num ---->7\n",
            "[0.4957943260669708, 0.42470309138298035, 0.5908974409103394]\n",
            "[0.5093342065811157, 0.5271318554878235, 0.45715203881263733, 0.36597558856010437, 0.5025027394294739, 0.5638473033905029, 0.4076090157032013, 0.4739723801612854, 0.486750066280365, 0.41754817962646484]\n",
            "[0.5388289093971252, 0.4809752106666565, 0.3836425244808197, 0.42169541120529175, 0.36056262254714966, 0.5127153396606445, 0.4567565321922302, 0.45480525493621826, 0.5150401592254639]\n",
            "[0.5111827850341797, 0.48781079053878784]\n",
            "[0.32725459337234497, 0.5578138828277588, 0.4557442367076874, 0.5332989692687988, 0.4253799021244049, 0.5510738492012024, 0.48751822113990784, 0.5892869234085083, 0.4698515832424164, 0.5253548622131348, 0.47847452759742737, 0.4616616368293762]\n",
            "epoch_num ---->8\n",
            "[0.5321915745735168, 0.4800410568714142, 0.3999197483062744]\n",
            "[0.572952926158905, 0.44263893365859985, 0.5235066413879395, 0.4291131794452667, 0.42685890197753906, 0.4514583945274353, 0.5321522355079651, 0.5585051774978638, 0.5199275612831116, 0.552578330039978]\n",
            "[0.4614149034023285, 0.4610595703125, 0.5148244500160217, 0.38687169551849365, 0.3706221878528595, 0.44109058380126953, 0.4419018626213074, 0.5022077560424805, 0.5102608799934387]\n",
            "[0.46892181038856506, 0.5084786415100098]\n",
            "[0.4390755295753479, 0.46941038966178894, 0.4789696931838989, 0.47832605242729187, 0.48500293493270874, 0.5034910440444946, 0.3237968981266022, 0.4563043415546417, 0.5265269875526428, 0.46180954575538635, 0.459739625453949, 0.5332557559013367]\n",
            "epoch_num ---->9\n",
            "[0.4145103991031647, 0.5180568695068359, 0.4583228528499603]\n",
            "[0.5745947957038879, 0.5478430390357971, 0.5430326461791992, 0.5262998938560486, 0.6081040501594543, 0.4926780164241791, 0.5683029890060425, 0.6023237705230713, 0.44946157932281494, 0.4395776391029358]\n",
            "[0.506364643573761, 0.5410488247871399, 0.4577328562736511, 0.40465882420539856, 0.5287624001502991, 0.5170419812202454, 0.52930748462677, 0.41317087411880493, 0.4536033272743225]\n",
            "[0.4814806282520294, 0.5205177664756775]\n",
            "[0.4922901391983032, 0.46662721037864685, 0.5217278003692627, 0.44344836473464966, 0.44548171758651733, 0.576472818851471, 0.6293678879737854, 0.43014779686927795, 0.5260277986526489, 0.3788619637489319, 0.4825384020805359, 0.5408079028129578]\n"
          ],
          "name": "stdout"
        }
      ]
    }
  ]
}